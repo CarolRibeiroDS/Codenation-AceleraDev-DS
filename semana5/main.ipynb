{
 "cells": [
  {
   "cell_type": "markdown",
   "metadata": {
    "colab_type": "text",
    "id": "L5l2poAEjZax"
   },
   "source": [
    "# Desafio 4\n",
    "\n",
    "Neste desafio, vamos praticar um pouco sobre testes de hipóteses. Utilizaremos o _data set_ [2016 Olympics in Rio de Janeiro](https://www.kaggle.com/rio2016/olympic-games/), que contém dados sobre os atletas das Olimpíadas de 2016 no Rio de Janeiro.\n",
    "\n",
    "Esse _data set_ conta com informações gerais sobre 11538 atletas como nome, nacionalidade, altura, peso e esporte praticado. Estaremos especialmente interessados nas variáveis numéricas altura (`height`) e peso (`weight`). As análises feitas aqui são parte de uma Análise Exploratória de Dados (EDA).\n",
    "\n",
    "> Obs.: Por favor, não modifique o nome das funções de resposta."
   ]
  },
  {
   "cell_type": "markdown",
   "metadata": {
    "colab_type": "text",
    "id": "eDHJZcOQjZay"
   },
   "source": [
    "## _Setup_ geral"
   ]
  },
  {
   "cell_type": "code",
   "execution_count": 4,
   "metadata": {
    "colab": {},
    "colab_type": "code",
    "executionInfo": {
     "elapsed": 1328,
     "status": "ok",
     "timestamp": 1594238403364,
     "user": {
      "displayName": "Carol Ribeiro",
      "photoUrl": "",
      "userId": "03826370261626499192"
     },
     "user_tz": 180
    },
    "id": "NEiefEFYjZaz"
   },
   "outputs": [],
   "source": [
    "import pandas as pd\n",
    "import matplotlib.pyplot as plt\n",
    "import numpy as np\n",
    "import scipy.stats as sct\n",
    "import seaborn as sns\n",
    "import statsmodels.api as sm"
   ]
  },
  {
   "cell_type": "code",
   "execution_count": 5,
   "metadata": {
    "colab": {
     "base_uri": "https://localhost:8080/",
     "height": 122
    },
    "colab_type": "code",
    "executionInfo": {
     "elapsed": 24646,
     "status": "ok",
     "timestamp": 1594236508279,
     "user": {
      "displayName": "Carol Ribeiro",
      "photoUrl": "",
      "userId": "03826370261626499192"
     },
     "user_tz": 180
    },
    "id": "BmpUue5fjinM",
    "outputId": "dd477333-f3cf-425b-8ac8-65b4d3215e04"
   },
   "outputs": [],
   "source": [
    "#from google.colab import drive\n",
    "#drive.mount('/content/drive')"
   ]
  },
  {
   "cell_type": "code",
   "execution_count": 7,
   "metadata": {
    "colab": {
     "base_uri": "https://localhost:8080/",
     "height": 34
    },
    "colab_type": "code",
    "executionInfo": {
     "elapsed": 922,
     "status": "ok",
     "timestamp": 1594236512373,
     "user": {
      "displayName": "Carol Ribeiro",
      "photoUrl": "",
      "userId": "03826370261626499192"
     },
     "user_tz": 180
    },
    "id": "LghdM763jzi1",
    "outputId": "aa3ecd81-5894-4f63-baf7-2052ab8c1098"
   },
   "outputs": [],
   "source": [
    "#changing the working directory\n",
    "#%cd /content/drive/My Drive/data-science-2"
   ]
  },
  {
   "cell_type": "code",
   "execution_count": 8,
   "metadata": {
    "colab": {},
    "colab_type": "code",
    "executionInfo": {
     "elapsed": 1073,
     "status": "ok",
     "timestamp": 1594236524971,
     "user": {
      "displayName": "Carol Ribeiro",
      "photoUrl": "",
      "userId": "03826370261626499192"
     },
     "user_tz": 180
    },
    "id": "tL6gZvB4jZa2"
   },
   "outputs": [],
   "source": [
    "#%matplotlib inline\n",
    "\n",
    "#from IPython.core.pylabtools import figsize\n",
    "\n",
    "\n",
    "#figsize(12, 8)\n",
    "\n",
    "#sns.set()"
   ]
  },
  {
   "cell_type": "code",
   "execution_count": 9,
   "metadata": {
    "colab": {},
    "colab_type": "code",
    "executionInfo": {
     "elapsed": 791,
     "status": "ok",
     "timestamp": 1594237644254,
     "user": {
      "displayName": "Carol Ribeiro",
      "photoUrl": "",
      "userId": "03826370261626499192"
     },
     "user_tz": 180
    },
    "id": "4OfAr5KVjZa4"
   },
   "outputs": [],
   "source": [
    "df = pd.read_csv(\"athletes.csv\")"
   ]
  },
  {
   "cell_type": "code",
   "execution_count": 10,
   "metadata": {
    "colab": {},
    "colab_type": "code",
    "executionInfo": {
     "elapsed": 1129,
     "status": "ok",
     "timestamp": 1594237060264,
     "user": {
      "displayName": "Carol Ribeiro",
      "photoUrl": "",
      "userId": "03826370261626499192"
     },
     "user_tz": 180
    },
    "id": "-IAKnEshjZa7"
   },
   "outputs": [],
   "source": [
    "def get_sample(df, col_name, n=100, seed=42):\n",
    "    \"\"\"Get a sample from a column of a dataframe.\n",
    "    \n",
    "    It drops any numpy.nan entries before sampling. The sampling\n",
    "    is performed without replacement.\n",
    "    \n",
    "    Example of numpydoc for those who haven't seen yet.\n",
    "    \n",
    "    Parameters\n",
    "    ----------\n",
    "    df : pandas.DataFrame\n",
    "        Source dataframe.\n",
    "    col_name : str\n",
    "        Name of the column to be sampled.\n",
    "    n : int\n",
    "        Sample size. Default is 100.\n",
    "    seed : int\n",
    "        Random seed. Default is 42.\n",
    "    \n",
    "    Returns\n",
    "    -------\n",
    "    pandas.Series\n",
    "        Sample of size n from dataframe's column.\n",
    "    \"\"\"\n",
    "    np.random.seed(seed)\n",
    "    \n",
    "    random_idx = np.random.choice(df[col_name].dropna().index, size=n, replace=False)\n",
    "    \n",
    "    return df.loc[random_idx, col_name]"
   ]
  },
  {
   "cell_type": "markdown",
   "metadata": {
    "colab_type": "text",
    "id": "aZfwua_JjZa9"
   },
   "source": [
    "## Inicia sua análise a partir daqui"
   ]
  },
  {
   "cell_type": "code",
   "execution_count": 11,
   "metadata": {
    "colab": {
     "base_uri": "https://localhost:8080/",
     "height": 221
    },
    "colab_type": "code",
    "executionInfo": {
     "elapsed": 1005,
     "status": "ok",
     "timestamp": 1594237689354,
     "user": {
      "displayName": "Carol Ribeiro",
      "photoUrl": "",
      "userId": "03826370261626499192"
     },
     "user_tz": 180
    },
    "id": "pVM0ZuORjZa-",
    "outputId": "7133a5ec-523f-4253-830d-2c7e12536b65"
   },
   "outputs": [
    {
     "data": {
      "text/html": [
       "<div>\n",
       "<style scoped>\n",
       "    .dataframe tbody tr th:only-of-type {\n",
       "        vertical-align: middle;\n",
       "    }\n",
       "\n",
       "    .dataframe tbody tr th {\n",
       "        vertical-align: top;\n",
       "    }\n",
       "\n",
       "    .dataframe thead th {\n",
       "        text-align: right;\n",
       "    }\n",
       "</style>\n",
       "<table border=\"1\" class=\"dataframe\">\n",
       "  <thead>\n",
       "    <tr style=\"text-align: right;\">\n",
       "      <th></th>\n",
       "      <th>id</th>\n",
       "      <th>name</th>\n",
       "      <th>nationality</th>\n",
       "      <th>sex</th>\n",
       "      <th>dob</th>\n",
       "      <th>height</th>\n",
       "      <th>weight</th>\n",
       "      <th>sport</th>\n",
       "      <th>gold</th>\n",
       "      <th>silver</th>\n",
       "      <th>bronze</th>\n",
       "    </tr>\n",
       "  </thead>\n",
       "  <tbody>\n",
       "    <tr>\n",
       "      <td>0</td>\n",
       "      <td>736041664</td>\n",
       "      <td>A Jesus Garcia</td>\n",
       "      <td>ESP</td>\n",
       "      <td>male</td>\n",
       "      <td>10/17/69</td>\n",
       "      <td>1.72</td>\n",
       "      <td>64.0</td>\n",
       "      <td>athletics</td>\n",
       "      <td>0</td>\n",
       "      <td>0</td>\n",
       "      <td>0</td>\n",
       "    </tr>\n",
       "    <tr>\n",
       "      <td>1</td>\n",
       "      <td>532037425</td>\n",
       "      <td>A Lam Shin</td>\n",
       "      <td>KOR</td>\n",
       "      <td>female</td>\n",
       "      <td>9/23/86</td>\n",
       "      <td>1.68</td>\n",
       "      <td>56.0</td>\n",
       "      <td>fencing</td>\n",
       "      <td>0</td>\n",
       "      <td>0</td>\n",
       "      <td>0</td>\n",
       "    </tr>\n",
       "    <tr>\n",
       "      <td>2</td>\n",
       "      <td>435962603</td>\n",
       "      <td>Aaron Brown</td>\n",
       "      <td>CAN</td>\n",
       "      <td>male</td>\n",
       "      <td>5/27/92</td>\n",
       "      <td>1.98</td>\n",
       "      <td>79.0</td>\n",
       "      <td>athletics</td>\n",
       "      <td>0</td>\n",
       "      <td>0</td>\n",
       "      <td>1</td>\n",
       "    </tr>\n",
       "    <tr>\n",
       "      <td>3</td>\n",
       "      <td>521041435</td>\n",
       "      <td>Aaron Cook</td>\n",
       "      <td>MDA</td>\n",
       "      <td>male</td>\n",
       "      <td>1/2/91</td>\n",
       "      <td>1.83</td>\n",
       "      <td>80.0</td>\n",
       "      <td>taekwondo</td>\n",
       "      <td>0</td>\n",
       "      <td>0</td>\n",
       "      <td>0</td>\n",
       "    </tr>\n",
       "    <tr>\n",
       "      <td>4</td>\n",
       "      <td>33922579</td>\n",
       "      <td>Aaron Gate</td>\n",
       "      <td>NZL</td>\n",
       "      <td>male</td>\n",
       "      <td>11/26/90</td>\n",
       "      <td>1.81</td>\n",
       "      <td>71.0</td>\n",
       "      <td>cycling</td>\n",
       "      <td>0</td>\n",
       "      <td>0</td>\n",
       "      <td>0</td>\n",
       "    </tr>\n",
       "  </tbody>\n",
       "</table>\n",
       "</div>"
      ],
      "text/plain": [
       "          id            name nationality     sex       dob  height  weight  \\\n",
       "0  736041664  A Jesus Garcia         ESP    male  10/17/69    1.72    64.0   \n",
       "1  532037425      A Lam Shin         KOR  female   9/23/86    1.68    56.0   \n",
       "2  435962603     Aaron Brown         CAN    male   5/27/92    1.98    79.0   \n",
       "3  521041435      Aaron Cook         MDA    male    1/2/91    1.83    80.0   \n",
       "4   33922579      Aaron Gate         NZL    male  11/26/90    1.81    71.0   \n",
       "\n",
       "       sport  gold  silver  bronze  \n",
       "0  athletics     0       0       0  \n",
       "1    fencing     0       0       0  \n",
       "2  athletics     0       0       1  \n",
       "3  taekwondo     0       0       0  \n",
       "4    cycling     0       0       0  "
      ]
     },
     "execution_count": 11,
     "metadata": {},
     "output_type": "execute_result"
    }
   ],
   "source": [
    "# Verificando se a importação obteve sucesso\n",
    "df.head()"
   ]
  },
  {
   "cell_type": "markdown",
   "metadata": {
    "colab_type": "text",
    "id": "LEgvQyWUjZbB"
   },
   "source": [
    "A importação foi concluída com sucesso. Ok! Vamos iniciar com a EDA dos dataset."
   ]
  },
  {
   "cell_type": "code",
   "execution_count": 19,
   "metadata": {
    "colab": {
     "base_uri": "https://localhost:8080/",
     "height": 297
    },
    "colab_type": "code",
    "executionInfo": {
     "elapsed": 1114,
     "status": "ok",
     "timestamp": 1594237702933,
     "user": {
      "displayName": "Carol Ribeiro",
      "photoUrl": "",
      "userId": "03826370261626499192"
     },
     "user_tz": 180
    },
    "id": "VShGNS9GjZbB",
    "outputId": "d65f40f0-9594-43f4-d85b-32125d2da3fc",
    "pycharm": {
     "name": "#%%\n"
    }
   },
   "outputs": [
    {
     "data": {
      "text/html": [
       "<div>\n",
       "<style scoped>\n",
       "    .dataframe tbody tr th:only-of-type {\n",
       "        vertical-align: middle;\n",
       "    }\n",
       "\n",
       "    .dataframe tbody tr th {\n",
       "        vertical-align: top;\n",
       "    }\n",
       "\n",
       "    .dataframe thead th {\n",
       "        text-align: right;\n",
       "    }\n",
       "</style>\n",
       "<table border=\"1\" class=\"dataframe\">\n",
       "  <thead>\n",
       "    <tr style=\"text-align: right;\">\n",
       "      <th></th>\n",
       "      <th>height</th>\n",
       "      <th>weight</th>\n",
       "    </tr>\n",
       "  </thead>\n",
       "  <tbody>\n",
       "    <tr>\n",
       "      <td>count</td>\n",
       "      <td>10858.000000</td>\n",
       "      <td>10858.000000</td>\n",
       "    </tr>\n",
       "    <tr>\n",
       "      <td>mean</td>\n",
       "      <td>1.766942</td>\n",
       "      <td>72.070915</td>\n",
       "    </tr>\n",
       "    <tr>\n",
       "      <td>std</td>\n",
       "      <td>0.113111</td>\n",
       "      <td>16.162358</td>\n",
       "    </tr>\n",
       "    <tr>\n",
       "      <td>min</td>\n",
       "      <td>1.210000</td>\n",
       "      <td>31.000000</td>\n",
       "    </tr>\n",
       "    <tr>\n",
       "      <td>25%</td>\n",
       "      <td>1.690000</td>\n",
       "      <td>60.000000</td>\n",
       "    </tr>\n",
       "    <tr>\n",
       "      <td>50%</td>\n",
       "      <td>1.760000</td>\n",
       "      <td>70.000000</td>\n",
       "    </tr>\n",
       "    <tr>\n",
       "      <td>75%</td>\n",
       "      <td>1.840000</td>\n",
       "      <td>81.000000</td>\n",
       "    </tr>\n",
       "    <tr>\n",
       "      <td>max</td>\n",
       "      <td>2.210000</td>\n",
       "      <td>170.000000</td>\n",
       "    </tr>\n",
       "  </tbody>\n",
       "</table>\n",
       "</div>"
      ],
      "text/plain": [
       "             height        weight\n",
       "count  10858.000000  10858.000000\n",
       "mean       1.766942     72.070915\n",
       "std        0.113111     16.162358\n",
       "min        1.210000     31.000000\n",
       "25%        1.690000     60.000000\n",
       "50%        1.760000     70.000000\n",
       "75%        1.840000     81.000000\n",
       "max        2.210000    170.000000"
      ]
     },
     "execution_count": 19,
     "metadata": {},
     "output_type": "execute_result"
    }
   ],
   "source": [
    "# Sumarizando os dados para as variáveis de interesse\n",
    "df[['height', 'weight']].dropna().describe()"
   ]
  },
  {
   "cell_type": "markdown",
   "metadata": {
    "colab_type": "text",
    "id": "LltBTW97jZbK"
   },
   "source": [
    "## Questão 1\n",
    "\n",
    "Considerando uma amostra de tamanho 3000 da coluna `height` obtida com a função `get_sample()`, execute o teste de normalidade de Shapiro-Wilk com a função `scipy.stats.shapiro()`. Podemos afirmar que as alturas são normalmente distribuídas com base nesse teste (ao nível de significância de 5%)? Responda com um boolean (`True` ou `False`)."
   ]
  },
  {
   "cell_type": "code",
   "execution_count": 20,
   "metadata": {
    "colab": {},
    "colab_type": "code",
    "executionInfo": {
     "elapsed": 1076,
     "status": "ok",
     "timestamp": 1594238823514,
     "user": {
      "displayName": "Carol Ribeiro",
      "photoUrl": "",
      "userId": "03826370261626499192"
     },
     "user_tz": 180
    },
    "id": "Iz9mWiSBjZbF",
    "pycharm": {
     "name": "#%%\n"
    }
   },
   "outputs": [],
   "source": [
    "def q1(alpha=0.05):\n",
    "  # Realizando a amostragem\n",
    "  sample1 = get_sample(df, 'height', n=3000)\n",
    "  # Aplicando teste de Shapiro-Wilk\n",
    "  statistics, p_value = sct.shapiro(sample1)\n",
    "  # Avaliando o resultado em função do p-value\n",
    "  if p_value > alpha: # Aceita-se H0\n",
    "    return True\n",
    "  else: #Rejeita-se H0\n",
    "    return False"
   ]
  },
  {
   "cell_type": "code",
   "execution_count": 21,
   "metadata": {
    "colab": {
     "base_uri": "https://localhost:8080/",
     "height": 34
    },
    "colab_type": "code",
    "executionInfo": {
     "elapsed": 676,
     "status": "ok",
     "timestamp": 1594238826003,
     "user": {
      "displayName": "Carol Ribeiro",
      "photoUrl": "",
      "userId": "03826370261626499192"
     },
     "user_tz": 180
    },
    "id": "w0iEmQ-ajZbN",
    "outputId": "0aeba6af-6731-4df1-b209-a872e4d9c2e3"
   },
   "outputs": [
    {
     "data": {
      "text/plain": [
       "False"
      ]
     },
     "execution_count": 21,
     "metadata": {},
     "output_type": "execute_result"
    }
   ],
   "source": [
    "# Resposta\n",
    "q1()"
   ]
  },
  {
   "cell_type": "markdown",
   "metadata": {
    "colab_type": "text",
    "id": "jtM8lJsDjZbP"
   },
   "source": [
    "__Para refletir__:\n",
    "\n",
    "* Plote o histograma dessa variável (com, por exemplo, `bins=25`). A forma do gráfico e o resultado do teste são condizentes? Por que?\n",
    "* Plote o qq-plot para essa variável e a analise.\n",
    "* Existe algum nível de significância razoável que nos dê outro resultado no teste? (Não faça isso na prática. Isso é chamado _p-value hacking_, e não é legal)."
   ]
  },
  {
   "cell_type": "code",
   "execution_count": 55,
   "metadata": {
    "colab": {
     "base_uri": "https://localhost:8080/",
     "height": 279
    },
    "colab_type": "code",
    "executionInfo": {
     "elapsed": 1105,
     "status": "ok",
     "timestamp": 1594240582443,
     "user": {
      "displayName": "Carol Ribeiro",
      "photoUrl": "",
      "userId": "03826370261626499192"
     },
     "user_tz": 180
    },
    "id": "W4q6OtvwCHnT",
    "outputId": "94b79be1-de26-4c68-ddae-ee1dc5a49a0e"
   },
   "outputs": [
    {
     "data": {
      "image/png": "[encoded data removed]",
      "text/plain": [
       "<Figure size 432x288 with 1 Axes>"
      ]
     },
     "metadata": {
      "needs_background": "light"
     },
     "output_type": "display_data"
    }
   ],
   "source": [
    "from scipy.stats import norm\n",
    "ax = sns.distplot(df['height'], bins=25)"
   ]
  },
  {
   "cell_type": "code",
   "execution_count": 18,
   "metadata": {
    "colab": {
     "base_uri": "https://localhost:8080/",
     "height": 279
    },
    "colab_type": "code",
    "executionInfo": {
     "elapsed": 1433,
     "status": "ok",
     "timestamp": 1594238831406,
     "user": {
      "displayName": "Carol Ribeiro",
      "photoUrl": "",
      "userId": "03826370261626499192"
     },
     "user_tz": 180
    },
    "id": "nisNGRgr_i3v",
    "outputId": "dbdeebfc-239c-4811-cec9-017cbb4b314a"
   },
   "outputs": [
    {
     "data": {
      "image/png": "[encoded data removed]",
      "text/plain": [
       "<Figure size 432x288 with 1 Axes>"
      ]
     },
     "metadata": {
      "needs_background": "light"
     },
     "output_type": "display_data"
    }
   ],
   "source": [
    "# Removendo NaN para gerar gráfico do QQplot\n",
    "height_T = df['height'].dropna(how='any', axis=0)\n",
    "sm.qqplot(height_T, fit=True, line=\"45\");"
   ]
  },
  {
   "cell_type": "markdown",
   "metadata": {
    "colab_type": "text",
    "id": "ZW_Oybu5jZbQ"
   },
   "source": [
    "## Questão 2\n",
    "\n",
    "Repita o mesmo procedimento acima, mas agora utilizando o teste de normalidade de Jarque-Bera através da função `scipy.stats.jarque_bera()`. Agora podemos afirmar que as alturas são normalmente distribuídas (ao nível de significância de 5%)? Responda com um boolean (`True` ou `False`)."
   ]
  },
  {
   "cell_type": "code",
   "execution_count": 24,
   "metadata": {
    "colab": {},
    "colab_type": "code",
    "executionInfo": {
     "elapsed": 977,
     "status": "ok",
     "timestamp": 1594238914466,
     "user": {
      "displayName": "Carol Ribeiro",
      "photoUrl": "",
      "userId": "03826370261626499192"
     },
     "user_tz": 180
    },
    "id": "rC3-ZaOQjZbQ"
   },
   "outputs": [],
   "source": [
    "def q2(alpha=0.05):\n",
    "  # Realizando a amostragem\n",
    "  sample2 = get_sample(df, 'height', n=3000)\n",
    "  # Aplicando teste de de normalidade de Jarque-Bera\n",
    "  statistics, p_value = sct.stats.jarque_bera(sample2)\n",
    "  # Avaliando o resultado em função do p-value\n",
    "  if p_value > alpha: # Aceita-se H0\n",
    "    return True\n",
    "  else: #Rejeita-se H0\n",
    "    return False"
   ]
  },
  {
   "cell_type": "code",
   "execution_count": 25,
   "metadata": {
    "colab": {
     "base_uri": "https://localhost:8080/",
     "height": 34
    },
    "colab_type": "code",
    "executionInfo": {
     "elapsed": 983,
     "status": "ok",
     "timestamp": 1594238916834,
     "user": {
      "displayName": "Carol Ribeiro",
      "photoUrl": "",
      "userId": "03826370261626499192"
     },
     "user_tz": 180
    },
    "id": "yJM18vQWCXju",
    "outputId": "a1bada3a-dfea-4f39-96c0-d50e3760c04d"
   },
   "outputs": [
    {
     "data": {
      "text/plain": [
       "False"
      ]
     },
     "execution_count": 25,
     "metadata": {},
     "output_type": "execute_result"
    }
   ],
   "source": [
    "# Resposta\n",
    "q2()"
   ]
  },
  {
   "cell_type": "markdown",
   "metadata": {
    "colab_type": "text",
    "id": "q-EHIq8XjZbS"
   },
   "source": [
    "__Para refletir__:\n",
    "\n",
    "* Esse resultado faz sentido?"
   ]
  },
  {
   "cell_type": "code",
   "execution_count": 26,
   "metadata": {
    "colab": {
     "base_uri": "https://localhost:8080/",
     "height": 279
    },
    "colab_type": "code",
    "executionInfo": {
     "elapsed": 1078,
     "status": "ok",
     "timestamp": 1594239846594,
     "user": {
      "displayName": "Carol Ribeiro",
      "photoUrl": "",
      "userId": "03826370261626499192"
     },
     "user_tz": 180
    },
    "id": "dPC_z2wUGWrl",
    "outputId": "0417d01c-2b58-45b2-c9de-ce2932fb6d5a"
   },
   "outputs": [
    {
     "data": {
      "image/png": "[encoded data removed]",
      "text/plain": [
       "<Figure size 432x288 with 1 Axes>"
      ]
     },
     "metadata": {
      "needs_background": "light"
     },
     "output_type": "display_data"
    }
   ],
   "source": [
    "ax = sns.boxplot(x=df['height'])"
   ]
  },
  {
   "cell_type": "markdown",
   "metadata": {
    "colab_type": "text",
    "id": "vZ6RtO2sR-Oj"
   },
   "source": [
    "Observa-se a presença de outliers em ambas as extremidade, o que demonstra a assimetria na distribuição e reforça o resultado do teste aplicado. "
   ]
  },
  {
   "cell_type": "markdown",
   "metadata": {
    "colab_type": "text",
    "id": "NOCW0LULjZbT"
   },
   "source": [
    "## Questão 3\n",
    "\n",
    "Considerando agora uma amostra de tamanho 3000 da coluna `weight` obtida com a função `get_sample()`. Faça o teste de normalidade de D'Agostino-Pearson utilizando a função `scipy.stats.normaltest()`. Podemos afirmar que os pesos vêm de uma distribuição normal ao nível de significância de 5%? Responda com um boolean (`True` ou `False`)."
   ]
  },
  {
   "cell_type": "code",
   "execution_count": 35,
   "metadata": {
    "colab": {},
    "colab_type": "code",
    "executionInfo": {
     "elapsed": 795,
     "status": "ok",
     "timestamp": 1594239638264,
     "user": {
      "displayName": "Carol Ribeiro",
      "photoUrl": "",
      "userId": "03826370261626499192"
     },
     "user_tz": 180
    },
    "id": "QOZ4GASyjZbT"
   },
   "outputs": [],
   "source": [
    "def q3(alpha=0.05):\n",
    "  # Realizando a amostragem\n",
    "  sample3 = get_sample(df, 'weight', n=3000)\n",
    "  # Aplicando teste de normalidade de D'Agostino-Pearson \n",
    "  statistics, p_value = sct.normaltest(sample3)\n",
    "  # Avaliando o resultado em função do p-value\n",
    "  if p_value > alpha: # Aceita-se H0\n",
    "    return True\n",
    "  else: #Rejeita-se H0\n",
    "    return False"
   ]
  },
  {
   "cell_type": "code",
   "execution_count": 36,
   "metadata": {
    "colab": {
     "base_uri": "https://localhost:8080/",
     "height": 34
    },
    "colab_type": "code",
    "executionInfo": {
     "elapsed": 1102,
     "status": "ok",
     "timestamp": 1594239639941,
     "user": {
      "displayName": "Carol Ribeiro",
      "photoUrl": "",
      "userId": "03826370261626499192"
     },
     "user_tz": 180
    },
    "id": "SEacqbUVFiKe",
    "outputId": "94165780-ddce-401c-90ea-dde8c1959aaa"
   },
   "outputs": [
    {
     "data": {
      "text/plain": [
       "False"
      ]
     },
     "execution_count": 36,
     "metadata": {},
     "output_type": "execute_result"
    }
   ],
   "source": [
    "# Resposta\n",
    "q3()"
   ]
  },
  {
   "cell_type": "markdown",
   "metadata": {
    "colab_type": "text",
    "id": "T9LuZzywjZbV"
   },
   "source": [
    "__Para refletir__:\n",
    "\n",
    "* Plote o histograma dessa variável (com, por exemplo, `bins=25`). A forma do gráfico e o resultado do teste são condizentes? Por que?\n",
    "* Um _box plot_ também poderia ajudar a entender a resposta."
   ]
  },
  {
   "cell_type": "code",
   "execution_count": 41,
   "metadata": {
    "colab": {
     "base_uri": "https://localhost:8080/",
     "height": 281
    },
    "colab_type": "code",
    "executionInfo": {
     "elapsed": 864,
     "status": "ok",
     "timestamp": 1594240753149,
     "user": {
      "displayName": "Carol Ribeiro",
      "photoUrl": "",
      "userId": "03826370261626499192"
     },
     "user_tz": 180
    },
    "id": "Vb8SDSp5Fpgt",
    "outputId": "3cfff246-dca7-4bda-bf47-b78c380662af"
   },
   "outputs": [
    {
     "name": "stderr",
     "output_type": "stream",
     "text": [
      "/usr/local/anaconda3/lib/python3.7/site-packages/numpy/lib/histograms.py:829: RuntimeWarning: invalid value encountered in greater_equal\n",
      "  keep = (tmp_a >= first_edge)\n",
      "/usr/local/anaconda3/lib/python3.7/site-packages/numpy/lib/histograms.py:830: RuntimeWarning: invalid value encountered in less_equal\n",
      "  keep &= (tmp_a <= last_edge)\n",
      "/usr/local/anaconda3/lib/python3.7/site-packages/statsmodels/nonparametric/kde.py:447: RuntimeWarning: invalid value encountered in greater\n",
      "  X = X[np.logical_and(X > clip[0], X < clip[1])] # won't work for two columns.\n",
      "/usr/local/anaconda3/lib/python3.7/site-packages/statsmodels/nonparametric/kde.py:447: RuntimeWarning: invalid value encountered in less\n",
      "  X = X[np.logical_and(X > clip[0], X < clip[1])] # won't work for two columns.\n"
     ]
    },
    {
     "data": {
      "image/png": "[encoded data removed]",
      "text/plain": [
       "<Figure size 432x288 with 1 Axes>"
      ]
     },
     "metadata": {
      "needs_background": "light"
     },
     "output_type": "display_data"
    }
   ],
   "source": [
    "ax = sns.distplot(df['weight'], bins=25, color='g')"
   ]
  },
  {
   "cell_type": "markdown",
   "metadata": {
    "colab_type": "text",
    "id": "5658Rz7WSlov"
   },
   "source": [
    "Observa-se no histograma assimetria a direita, reforçando os valores do teste aplicado de não normalidade."
   ]
  },
  {
   "cell_type": "code",
   "execution_count": 42,
   "metadata": {
    "colab": {
     "base_uri": "https://localhost:8080/",
     "height": 279
    },
    "colab_type": "code",
    "executionInfo": {
     "elapsed": 820,
     "status": "ok",
     "timestamp": 1594240760895,
     "user": {
      "displayName": "Carol Ribeiro",
      "photoUrl": "",
      "userId": "03826370261626499192"
     },
     "user_tz": 180
    },
    "id": "D6iIJ4S6FyRQ",
    "outputId": "4b97b720-ccf5-4d14-a089-4bff1d30be33"
   },
   "outputs": [
    {
     "data": {
      "image/png": "[encoded data removed]",
      "text/plain": [
       "<Figure size 432x288 with 1 Axes>"
      ]
     },
     "metadata": {
      "needs_background": "light"
     },
     "output_type": "display_data"
    }
   ],
   "source": [
    "ax = sns.boxplot(x=df['weight'], color='g')"
   ]
  },
  {
   "cell_type": "markdown",
   "metadata": {
    "colab_type": "text",
    "id": "C1c7iZ9yjZbW"
   },
   "source": [
    "## Questão 4\n",
    "\n",
    "Realize uma transformação logarítmica em na amostra de `weight` da questão 3 e repita o mesmo procedimento. Podemos afirmar a normalidade da variável transformada ao nível de significância de 5%? Responda com um boolean (`True` ou `False`)."
   ]
  },
  {
   "cell_type": "code",
   "execution_count": 43,
   "metadata": {
    "colab": {},
    "colab_type": "code",
    "executionInfo": {
     "elapsed": 993,
     "status": "ok",
     "timestamp": 1594240515675,
     "user": {
      "displayName": "Carol Ribeiro",
      "photoUrl": "",
      "userId": "03826370261626499192"
     },
     "user_tz": 180
    },
    "id": "DbavAHTajZbW"
   },
   "outputs": [],
   "source": [
    "def q4(alpha=0.05):\n",
    "    # Transformacao log na variavel inteira\n",
    "    df['log_weight']= np.log(df['weight'])\n",
    "    # Coletando uma amostra\n",
    "    sample4 = get_sample(df, 'log_weight', n=3000)\n",
    "    # Fazer teste\n",
    "    statistics, p_value = sct.normaltest(sample4)\n",
    "    # Avaliar resultado a partir do p-valor\n",
    "    if p_value > alpha: # Aceitamos H0\n",
    "        return True\n",
    "    else: # Rejeitamos H0\n",
    "        return False"
   ]
  },
  {
   "cell_type": "code",
   "execution_count": 44,
   "metadata": {
    "colab": {
     "base_uri": "https://localhost:8080/",
     "height": 34
    },
    "colab_type": "code",
    "executionInfo": {
     "elapsed": 811,
     "status": "ok",
     "timestamp": 1594240517621,
     "user": {
      "displayName": "Carol Ribeiro",
      "photoUrl": "",
      "userId": "03826370261626499192"
     },
     "user_tz": 180
    },
    "id": "WtElLDKlH8x9",
    "outputId": "6108661a-8358-4ce4-9364-f581e60c67b5"
   },
   "outputs": [
    {
     "data": {
      "text/plain": [
       "False"
      ]
     },
     "execution_count": 44,
     "metadata": {},
     "output_type": "execute_result"
    }
   ],
   "source": [
    "q4()"
   ]
  },
  {
   "cell_type": "markdown",
   "metadata": {
    "colab_type": "text",
    "id": "lddheDZxjZbY"
   },
   "source": [
    "__Para refletir__:\n",
    "\n",
    "* Plote o histograma dessa variável (com, por exemplo, `bins=25`). A forma do gráfico e o resultado do teste são condizentes? Por que?\n",
    "* Você esperava um resultado diferente agora?"
   ]
  },
  {
   "cell_type": "code",
   "execution_count": 46,
   "metadata": {
    "colab": {
     "base_uri": "https://localhost:8080/",
     "height": 280
    },
    "colab_type": "code",
    "executionInfo": {
     "elapsed": 811,
     "status": "ok",
     "timestamp": 1594240783054,
     "user": {
      "displayName": "Carol Ribeiro",
      "photoUrl": "",
      "userId": "03826370261626499192"
     },
     "user_tz": 180
    },
    "id": "8eMrL11OIYPJ",
    "outputId": "0610f44a-7f47-48b2-e2fb-d752236affa5"
   },
   "outputs": [
    {
     "name": "stderr",
     "output_type": "stream",
     "text": [
      "/usr/local/anaconda3/lib/python3.7/site-packages/statsmodels/nonparametric/kde.py:447: RuntimeWarning: invalid value encountered in greater\n",
      "  X = X[np.logical_and(X > clip[0], X < clip[1])] # won't work for two columns.\n",
      "/usr/local/anaconda3/lib/python3.7/site-packages/statsmodels/nonparametric/kde.py:447: RuntimeWarning: invalid value encountered in less\n",
      "  X = X[np.logical_and(X > clip[0], X < clip[1])] # won't work for two columns.\n"
     ]
    },
    {
     "data": {
      "image/png": "[encoded data removed]",
      "text/plain": [
       "<Figure size 432x288 with 1 Axes>"
      ]
     },
     "metadata": {
      "needs_background": "light"
     },
     "output_type": "display_data"
    }
   ],
   "source": [
    "ax = sns.distplot(df['log_weight'], bins=25, color='r')"
   ]
  },
  {
   "cell_type": "markdown",
   "metadata": {
    "colab_type": "text",
    "id": "j629atehjZbY"
   },
   "source": [
    "> __Para as questão 5 6 e 7 a seguir considere todos testes efetuados ao nível de significância de 5%__."
   ]
  },
  {
   "cell_type": "code",
   "execution_count": 47,
   "metadata": {
    "colab": {
     "base_uri": "https://localhost:8080/",
     "height": 68
    },
    "colab_type": "code",
    "executionInfo": {
     "elapsed": 853,
     "status": "ok",
     "timestamp": 1594241601778,
     "user": {
      "displayName": "Carol Ribeiro",
      "photoUrl": "",
      "userId": "03826370261626499192"
     },
     "user_tz": 180
    },
    "id": "mBMiJjqgNC9Q",
    "outputId": "64765980-7fa2-4f2c-8c7e-4c57aca68f9a"
   },
   "outputs": [
    {
     "data": {
      "text/plain": [
       "Index(['id', 'name', 'nationality', 'sex', 'dob', 'height', 'weight', 'sport',\n",
       "       'gold', 'silver', 'bronze', 'log_weight'],\n",
       "      dtype='object')"
      ]
     },
     "execution_count": 47,
     "metadata": {},
     "output_type": "execute_result"
    }
   ],
   "source": [
    "df.columns"
   ]
  },
  {
   "cell_type": "code",
   "execution_count": 48,
   "metadata": {
    "colab": {},
    "colab_type": "code",
    "executionInfo": {
     "elapsed": 978,
     "status": "ok",
     "timestamp": 1594242295296,
     "user": {
      "displayName": "Carol Ribeiro",
      "photoUrl": "",
      "userId": "03826370261626499192"
     },
     "user_tz": 180
    },
    "id": "IsBg-bNdKRWp"
   },
   "outputs": [],
   "source": [
    "# Definindo os dataset das questões 5, 6 e 7\n",
    "nac_df = df[(df['nationality'] == 'USA')|(df['nationality'] == 'BRA')|(df['nationality'] == 'CAN')]\n",
    "#Mantendo apenas as colunas de interesse e removendo NaN\n",
    "nac_df = nac_df[['nationality','height']].dropna()\n",
    "# Criando amostras de cada pais\n",
    "bra = df.loc[df['nationality'] == 'BRA', 'height']\n",
    "can = df.loc[df['nationality'] == 'CAN', 'height']\n",
    "usa = df.loc[df['nationality'] == 'USA', 'height']"
   ]
  },
  {
   "cell_type": "markdown",
   "metadata": {
    "colab_type": "text",
    "id": "zWk0YAQnjZbZ"
   },
   "source": [
    "## Questão 5\n",
    "\n",
    "Obtenha todos atletas brasileiros, norte-americanos e canadenses em `DataFrame`s chamados `bra`, `usa` e `can`,respectivamente. Realize um teste de hipóteses para comparação das médias das alturas (`height`) para amostras independentes e variâncias diferentes com a função `scipy.stats.ttest_ind()` entre `bra` e `usa`. Podemos afirmar que as médias são estatisticamente iguais? Responda com um boolean (`True` ou `False`)."
   ]
  },
  {
   "cell_type": "code",
   "execution_count": 49,
   "metadata": {
    "colab": {},
    "colab_type": "code",
    "executionInfo": {
     "elapsed": 914,
     "status": "ok",
     "timestamp": 1594242650009,
     "user": {
      "displayName": "Carol Ribeiro",
      "photoUrl": "",
      "userId": "03826370261626499192"
     },
     "user_tz": 180
    },
    "id": "IRr1FXScjZbZ"
   },
   "outputs": [],
   "source": [
    "def q5(alpha=0.05):\n",
    "  # Realizando teste T\n",
    "  statistics, p_value = sct.ttest_ind(bra, usa, equal_var=False, nan_policy='omit')\n",
    "  # Avaliando resultado a partir de p_value\n",
    "  if p_value > alpha: #Aceita-se H0\n",
    "    return True\n",
    "  else: # Rejeita-se H0 (p_value <= alpha )\n",
    "      return False"
   ]
  },
  {
   "cell_type": "code",
   "execution_count": 50,
   "metadata": {
    "colab": {
     "base_uri": "https://localhost:8080/",
     "height": 34
    },
    "colab_type": "code",
    "executionInfo": {
     "elapsed": 815,
     "status": "ok",
     "timestamp": 1594242651509,
     "user": {
      "displayName": "Carol Ribeiro",
      "photoUrl": "",
      "userId": "03826370261626499192"
     },
     "user_tz": 180
    },
    "id": "nuRiEWCaPoHi",
    "outputId": "4fece98a-3275-47df-d1be-34e440638446"
   },
   "outputs": [
    {
     "data": {
      "text/plain": [
       "False"
      ]
     },
     "execution_count": 50,
     "metadata": {},
     "output_type": "execute_result"
    }
   ],
   "source": [
    "# Resposta\n",
    "q5()"
   ]
  },
  {
   "cell_type": "markdown",
   "metadata": {
    "colab_type": "text",
    "id": "aiyGOo1EjZbb"
   },
   "source": [
    "## Questão 6\n",
    "\n",
    "Repita o procedimento da questão 5, mas agora entre as alturas de `bra` e `can`. Podemos afimar agora que as médias são estatisticamente iguais? Reponda com um boolean (`True` ou `False`)."
   ]
  },
  {
   "cell_type": "code",
   "execution_count": 51,
   "metadata": {
    "colab": {},
    "colab_type": "code",
    "executionInfo": {
     "elapsed": 854,
     "status": "ok",
     "timestamp": 1594242678443,
     "user": {
      "displayName": "Carol Ribeiro",
      "photoUrl": "",
      "userId": "03826370261626499192"
     },
     "user_tz": 180
    },
    "id": "bkXEbut6jZbb"
   },
   "outputs": [],
   "source": [
    "def q6(alpha=0.05):\n",
    "  # Realizando Teste T\n",
    "  statistics, p_value = sct.ttest_ind(bra, can, equal_var=False, nan_policy='omit')\n",
    "  # Avaliando os resultados obtidos\n",
    "  if p_value > alpha: # Aceita-se H0\n",
    "    return True\n",
    "  else: # Rejeita-se H0 (p_value <= alpha )\n",
    "    return False"
   ]
  },
  {
   "cell_type": "code",
   "execution_count": 52,
   "metadata": {
    "colab": {
     "base_uri": "https://localhost:8080/",
     "height": 34
    },
    "colab_type": "code",
    "executionInfo": {
     "elapsed": 1057,
     "status": "ok",
     "timestamp": 1594242682304,
     "user": {
      "displayName": "Carol Ribeiro",
      "photoUrl": "",
      "userId": "03826370261626499192"
     },
     "user_tz": 180
    },
    "id": "SEZ6vUTMQZOz",
    "outputId": "df2e19ae-d746-41b8-bb10-882a9dc8f12a"
   },
   "outputs": [
    {
     "data": {
      "text/plain": [
       "True"
      ]
     },
     "execution_count": 52,
     "metadata": {},
     "output_type": "execute_result"
    }
   ],
   "source": [
    "# Resposta\n",
    "q6()"
   ]
  },
  {
   "cell_type": "markdown",
   "metadata": {
    "colab_type": "text",
    "id": "Uy4Ov0NTjZbe"
   },
   "source": [
    "## Questão 7\n",
    "\n",
    "Repita o procedimento da questão 6, mas agora entre as alturas de `usa` e `can`. Qual o valor do p-valor retornado? Responda como um único escalar arredondado para oito casas decimais."
   ]
  },
  {
   "cell_type": "code",
   "execution_count": 53,
   "metadata": {
    "colab": {},
    "colab_type": "code",
    "executionInfo": {
     "elapsed": 897,
     "status": "ok",
     "timestamp": 1594242785997,
     "user": {
      "displayName": "Carol Ribeiro",
      "photoUrl": "",
      "userId": "03826370261626499192"
     },
     "user_tz": 180
    },
    "id": "kmwAdQajjZbe"
   },
   "outputs": [],
   "source": [
    "def q7(alpha=0.05):\n",
    "  # Realizando Teste T\n",
    "  statistics, p_value = sct.ttest_ind(usa,can, equal_var=False, nan_policy='omit')\n",
    "  return float(round(p_value,8))"
   ]
  },
  {
   "cell_type": "code",
   "execution_count": 54,
   "metadata": {
    "colab": {
     "base_uri": "https://localhost:8080/",
     "height": 34
    },
    "colab_type": "code",
    "executionInfo": {
     "elapsed": 1083,
     "status": "ok",
     "timestamp": 1594242800436,
     "user": {
      "displayName": "Carol Ribeiro",
      "photoUrl": "",
      "userId": "03826370261626499192"
     },
     "user_tz": 180
    },
    "id": "hJPvk3FVRnVU",
    "outputId": "045fc4da-eb0d-4f74-ebbe-ac9269c9aa8a"
   },
   "outputs": [
    {
     "data": {
      "text/plain": [
       "0.00046601"
      ]
     },
     "execution_count": 54,
     "metadata": {},
     "output_type": "execute_result"
    }
   ],
   "source": [
    "# Resposta\n",
    "q7()"
   ]
  },
  {
   "cell_type": "markdown",
   "metadata": {
    "colab_type": "text",
    "id": "EYGHSvOojZbg"
   },
   "source": [
    "__Para refletir__:\n",
    "\n",
    "* O resultado faz sentido?\n",
    "* Você consegue interpretar esse p-valor?\n",
    "* Você consegue chegar a esse valor de p-valor a partir da variável de estatística?"
   ]
  }
 ],
 "metadata": {
  "colab": {
   "collapsed_sections": [],
   "name": "main.ipynb",
   "provenance": []
  },
  "kernelspec": {
   "display_name": "Python 3",
   "language": "python",
   "name": "python3"
  },
  "language_info": {
   "codemirror_mode": {
    "name": "ipython",
    "version": 3
   },
   "file_extension": ".py",
   "mimetype": "text/x-python",
   "name": "python",
   "nbconvert_exporter": "python",
   "pygments_lexer": "ipython3",
   "version": "3.7.4"
  }
 },
 "nbformat": 4,
 "nbformat_minor": 1
}
